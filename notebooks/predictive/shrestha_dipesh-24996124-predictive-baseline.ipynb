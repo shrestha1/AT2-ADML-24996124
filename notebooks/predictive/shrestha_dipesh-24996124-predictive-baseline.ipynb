{
 "cells": [
  {
   "cell_type": "code",
   "execution_count": 1,
   "metadata": {},
   "outputs": [],
   "source": [
    "import os\n",
    "import sys\n",
    "\n",
    "# Get the absolute path of the project root \n",
    "project_root = os.path.abspath(os.path.join(os.getcwd(), \"../../\"))\n",
    "\n",
    "# Adding project root in syspath\n",
    "sys.path.append(project_root)\n",
    "\n",
    "\n",
    "import pandas as pd\n",
    "import matplotlib.pyplot as plt\n",
    "import seaborn as sns\n",
    "\n",
    "pd.set_option('display.max_rows', None)\n",
    "pd.set_option('display.max_columns', None)"
   ]
  },
  {
   "cell_type": "code",
   "execution_count": 3,
   "metadata": {},
   "outputs": [],
   "source": [
    "df_train = pd.read_csv('../../data/raw/sales_train.csv')\n",
    "df_test = pd.read_csv('../../data/raw/sales_test.csv')\n",
    "\n",
    "df_weekly_sales = pd.read_csv('../../data/raw/items_weekly_sell_prices.csv')\n",
    "df_calender = pd.read_csv('../../data/raw/calendar.csv')\n",
    "df_calender_event = pd.read_csv('../../data/raw/calendar_events.csv')"
   ]
  },
  {
   "cell_type": "code",
   "execution_count": null,
   "metadata": {},
   "outputs": [],
   "source": [
    "print(f'shape of the training dataset: {df_train.shape}')\n",
    "print(f'shape of the test dataset: {df_test.shape}')\n",
    "\n",
    "print(f'shape of the weekly sales dataset: {df_weekly_sales.shape}')\n",
    "print(f'shape of the calendar dataset: {df_calender.shape}')\n",
    "print(f'shape of the calendar events dataset: {df_calender_event.shape}')\n"
   ]
  },
  {
   "cell_type": "code",
   "execution_count": null,
   "metadata": {},
   "outputs": [],
   "source": [
    "from src.utils import reduce_mem_usage\n",
    "\n",
    "print('Reduce memory of the Train Data Frame')\n",
    "train_df = reduce_mem_usage(df_train)\n",
    "\n",
    "del df_train\n",
    "\n",
    "\n",
    "print('Reduce memory of the Test Data Frame')\n",
    "test_df = reduce_mem_usage(df_test)\n",
    "\n",
    "del df_test\n",
    "\n",
    "print('Reduce memory of the Weekly sales Data Frame')\n",
    "weekly_sales_df = reduce_mem_usage(df_weekly_sales)\n",
    "\n",
    "del df_weekly_sales\n",
    "\n",
    "\n",
    "print('Reduce memory of the Calendar Data Frame')\n",
    "calender_df = reduce_mem_usage(df_calender)\n",
    "\n",
    "del df_calender\n",
    "\n",
    "\n",
    "print('Reduce memory of the Calender event Data Frame')\n",
    "calender_event_df = reduce_mem_usage(df_calender_event)\n",
    "\n",
    "del df_calender_event"
   ]
  },
  {
   "cell_type": "markdown",
   "metadata": {},
   "source": [
    "Experimentation on Single State with 3 store"
   ]
  },
  {
   "cell_type": "code",
   "execution_count": 7,
   "metadata": {},
   "outputs": [],
   "source": [
    "# Melting the original train df\n",
    "train_df_copy = train_df.copy()\n",
    "train_df_copy = pd.melt(train_df, \n",
    "                        id_vars=['id','item_id','dept_id',\n",
    "                                    'cat_id','store_id','state_id'],\n",
    "                        var_name = 'day',\n",
    "                        value_name='sales_quantity'\n",
    "                        )"
   ]
  },
  {
   "cell_type": "code",
   "execution_count": null,
   "metadata": {},
   "outputs": [],
   "source": [
    "train_df_copy.info()\n"
   ]
  },
  {
   "cell_type": "code",
   "execution_count": 12,
   "metadata": {},
   "outputs": [],
   "source": [
    "wi_df = train_df_copy[train_df_copy['id'].str.contains('WI')]\n",
    " "
   ]
  },
  {
   "cell_type": "code",
   "execution_count": 14,
   "metadata": {},
   "outputs": [],
   "source": [
    "del train_df_copy"
   ]
  },
  {
   "cell_type": "code",
   "execution_count": null,
   "metadata": {},
   "outputs": [],
   "source": [
    "wi_df.info()"
   ]
  },
  {
   "cell_type": "code",
   "execution_count": null,
   "metadata": {},
   "outputs": [],
   "source": [
    "wi_df['dept_id'].value_counts()"
   ]
  },
  {
   "cell_type": "code",
   "execution_count": null,
   "metadata": {},
   "outputs": [],
   "source": [
    "wi_df.head()"
   ]
  },
  {
   "cell_type": "code",
   "execution_count": null,
   "metadata": {},
   "outputs": [],
   "source": [
    "wi_df[wi_df['day']=='d_2'].head()"
   ]
  },
  {
   "cell_type": "code",
   "execution_count": null,
   "metadata": {},
   "outputs": [],
   "source": [
    "\n",
    "date,\n",
    "store_id,\n",
    "item_id"
   ]
  },
  {
   "cell_type": "code",
   "execution_count": null,
   "metadata": {},
   "outputs": [],
   "source": [
    "wi_df.shape"
   ]
  },
  {
   "cell_type": "code",
   "execution_count": null,
   "metadata": {},
   "outputs": [],
   "source": [
    "calender_df.head()"
   ]
  },
  {
   "cell_type": "code",
   "execution_count": null,
   "metadata": {},
   "outputs": [],
   "source": [
    "calender_event_df.event_name.unique()"
   ]
  },
  {
   "cell_type": "code",
   "execution_count": null,
   "metadata": {},
   "outputs": [],
   "source": [
    "calender_event_df[calender_event_df['event_name']==\"NBAFinalsEnd\"]"
   ]
  },
  {
   "cell_type": "code",
   "execution_count": 54,
   "metadata": {},
   "outputs": [],
   "source": [
    "calender_detail_df = pd.merge(calender_df, calender_event_df, how='left', left_on='date', right_on='date')"
   ]
  },
  {
   "cell_type": "code",
   "execution_count": 56,
   "metadata": {},
   "outputs": [],
   "source": [
    "data = wi_df.copy()"
   ]
  },
  {
   "cell_type": "code",
   "execution_count": 57,
   "metadata": {},
   "outputs": [],
   "source": [
    "data = pd.merge(data,calender_detail_df, how='left', left_on=['day'], right_on=['d'])"
   ]
  },
  {
   "cell_type": "code",
   "execution_count": null,
   "metadata": {},
   "outputs": [],
   "source": [
    "data.head()"
   ]
  },
  {
   "cell_type": "code",
   "execution_count": 59,
   "metadata": {},
   "outputs": [],
   "source": [
    "data = data.merge(weekly_sales_df, on = ['store_id', 'item_id', 'wm_yr_wk'], how = 'left')\n"
   ]
  },
  {
   "cell_type": "code",
   "execution_count": null,
   "metadata": {},
   "outputs": [],
   "source": [
    "data.head()"
   ]
  },
  {
   "cell_type": "code",
   "execution_count": null,
   "metadata": {},
   "outputs": [],
   "source": [
    "data['sell_price'].fillna(0, inplace=True)\n",
    "data['event_name'].fillna(\"unknown\", inplace=True)\n",
    "data['event_type'].fillna(\"unknown\", inplace=True)"
   ]
  },
  {
   "cell_type": "code",
   "execution_count": 67,
   "metadata": {},
   "outputs": [],
   "source": [
    "data['total_sales'] = data[\"sales_quantity\"]*data[\"sell_price\"]"
   ]
  },
  {
   "cell_type": "code",
   "execution_count": null,
   "metadata": {},
   "outputs": [],
   "source": [
    "data.head()"
   ]
  },
  {
   "cell_type": "code",
   "execution_count": null,
   "metadata": {},
   "outputs": [],
   "source": [
    "data['date'].unique()"
   ]
  },
  {
   "cell_type": "code",
   "execution_count": null,
   "metadata": {},
   "outputs": [],
   "source": [
    "data['wm_yr_wk'].unique()"
   ]
  },
  {
   "cell_type": "code",
   "execution_count": 96,
   "metadata": {},
   "outputs": [],
   "source": [
    "test = pd.to_datetime('2011-02-5')"
   ]
  },
  {
   "cell_type": "code",
   "execution_count": null,
   "metadata": {},
   "outputs": [],
   "source": [
    "data.head()"
   ]
  },
  {
   "cell_type": "code",
   "execution_count": 99,
   "metadata": {},
   "outputs": [],
   "source": [
    "feature = ['date','item_id', 'store_id', 'total_sales']"
   ]
  },
  {
   "cell_type": "code",
   "execution_count": 100,
   "metadata": {},
   "outputs": [],
   "source": [
    "data = data[feature]"
   ]
  },
  {
   "cell_type": "code",
   "execution_count": null,
   "metadata": {},
   "outputs": [],
   "source": [
    "data.head()"
   ]
  },
  {
   "cell_type": "code",
   "execution_count": 103,
   "metadata": {},
   "outputs": [],
   "source": [
    "data.to_csv('../../data/interim/wi_sales.csv', index=False)"
   ]
  }
 ],
 "metadata": {
  "kernelspec": {
   "display_name": "at2-adml-24996124-5DbAEDQh-py3.11",
   "language": "python",
   "name": "python3"
  },
  "language_info": {
   "codemirror_mode": {
    "name": "ipython",
    "version": 3
   },
   "file_extension": ".py",
   "mimetype": "text/x-python",
   "name": "python",
   "nbconvert_exporter": "python",
   "pygments_lexer": "ipython3",
   "version": "3.11.4"
  }
 },
 "nbformat": 4,
 "nbformat_minor": 2
}
